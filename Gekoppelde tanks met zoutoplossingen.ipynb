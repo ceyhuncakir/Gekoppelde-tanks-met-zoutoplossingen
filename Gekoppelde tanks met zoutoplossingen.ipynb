{
 "cells": [
  {
   "cell_type": "markdown",
   "metadata": {},
   "source": [
    "# Imports"
   ]
  },
  {
   "cell_type": "code",
   "execution_count": 76,
   "metadata": {},
   "outputs": [],
   "source": [
    "from ipywidgets import interactive\n",
    "import matplotlib.pyplot as plt\n",
    "import numpy as np"
   ]
  },
  {
   "cell_type": "markdown",
   "metadata": {},
   "source": [
    "# Forward Eular"
   ]
  },
  {
   "cell_type": "code",
   "execution_count": 77,
   "metadata": {},
   "outputs": [
    {
     "data": {
      "application/vnd.jupyter.widget-view+json": {
       "model_id": "5a7fbbcce88c486c9923667ecbd7a6d4",
       "version_major": 2,
       "version_minor": 0
      },
      "text/plain": [
       "interactive(children=(IntSlider(value=100, description='i_tank_x', min=1), IntSlider(value=100, description='i…"
      ]
     },
     "metadata": {},
     "output_type": "display_data"
    }
   ],
   "source": [
    "def forward_eular(i_tank_x = 100, i_tank_y = 100, duur = 250, h = 1):\n",
    "    steps = int(duur / h)\n",
    "    total_time = h * np.array(range(steps + 1)) # totale tijd\n",
    "    \n",
    "    # variables waar de zout concentratie word opgeslagen per step\n",
    "    x_zout_concentratie = np.zeros(steps + 1)\n",
    "    y_zout_concentratie = np.zeros(steps + 1)\n",
    "     \n",
    "    # we geven aan dat tank y met een zoutgehalte 20 start\n",
    "    y_zout_concentratie[0] = 20\n",
    "    \n",
    "    for step in range(steps):\n",
    "        x_zout_concentratie[step + 1] = x_zout_concentratie[step] + h * (1.2 + y_zout_concentratie[step] * 1 / 100 - x_zout_concentratie[step] * 7 / 100)\n",
    "        y_zout_concentratie[step + 1] = y_zout_concentratie[step] + h * (x_zout_concentratie[step] * 3 / 100 - y_zout_concentratie[step] * 3 / 100)\n",
    "    \n",
    "    # hier word de zoutconcentratie gedeelt door het inhoud van het tank\n",
    "    x_zout_concentratie = x_zout_concentratie / i_tank_x\n",
    "    y_zout_concentratie = y_zout_concentratie / i_tank_y\n",
    "    \n",
    "    plt.figure(figsize=(16, 10), dpi=80)\n",
    "    \n",
    "    # plot van tank x\n",
    "    x_plot = plt.plot(total_time, x_zout_concentratie, color='r', label='tank x')\n",
    "    \n",
    "    # plot van tank y\n",
    "    y_plot = plt.plot(total_time, y_zout_concentratie, color='g', label='tank y')\n",
    "    \n",
    "    plt.xlabel('tijd in Min', fontsize=18)\n",
    "    plt.ylabel('zout in KG / L', fontsize=18)\n",
    "    plt.title(\"Forward Eular Method\", fontsize=18)\n",
    "    plt.legend(prop={\"size\":16})\n",
    "\n",
    "# zorgt er voor dat het plot interactive gebruikt kan worden.\n",
    "sliders = interactive(forward_eular, i_tank_x=(1, 100), i_tank_y=(1, 100), duur=(1, 250), h=(0.01, 20.0, 0.01))\n",
    "output = sliders.children[-1]\n",
    "output.layout.height = '500px'\n",
    "output.layout.width = '700px'\n",
    "sliders"
   ]
  },
  {
   "cell_type": "markdown",
   "metadata": {},
   "source": [
    "# Heun"
   ]
  },
  {
   "cell_type": "code",
   "execution_count": 78,
   "metadata": {},
   "outputs": [
    {
     "data": {
      "application/vnd.jupyter.widget-view+json": {
       "model_id": "94184d36367c42bab08be7a95cccfdbd",
       "version_major": 2,
       "version_minor": 0
      },
      "text/plain": [
       "interactive(children=(IntSlider(value=100, description='i_tank_x', max=1000, min=100), IntSlider(value=100, de…"
      ]
     },
     "metadata": {},
     "output_type": "display_data"
    }
   ],
   "source": [
    "def heun(i_tank_x = 100, i_tank_y = 100, duur = 250, h = 1):\n",
    "    steps = int(duur / h) \n",
    "    total_time = h * np.array(range(steps + 1))  # totale tijd \n",
    "    \n",
    "    # variables waar de zout concentratie word opgeslagen per step\n",
    "    x_zout_concentratie = np.zeros(steps + 1)\n",
    "    y_zout_concentratie = np.zeros(steps + 1)\n",
    "    \n",
    "    # we geven aan dat tank y met een zoutgehalte 20 start\n",
    "    y_zout_concentratie[0] = 20\n",
    "    \n",
    "    for step in range(steps):\n",
    "        x_tank_current = 1.2 + y_zout_concentratie[step] * 1 / 100 - x_zout_concentratie[step] * 7 / 100\n",
    "        x_tank_previous = 1.2 + y_zout_concentratie[step - 1] * 1 / 100 - x_zout_concentratie[step - 1] * 7 / 100\n",
    "        \n",
    "        y_tank_current = x_zout_concentratie[step] * 3 / 100 - y_zout_concentratie[step] * 3 / 100\n",
    "        y_tank_previous = x_zout_concentratie[step - 1] * 3 / 100 - y_zout_concentratie[step - 1] * 3 / 100\n",
    "        \n",
    "        # heuns method gebruikt uiteraard\n",
    "        x_zout_concentratie[step + 1] = x_zout_concentratie[step] + h * 0.5 * (x_tank_previous + x_tank_current)\n",
    "        y_zout_concentratie[step + 1] = y_zout_concentratie[step] + h * 0.5 * (y_tank_previous + y_tank_current)\n",
    "        \n",
    "    # hier word de zoutconcentratie gedeelt door het inhoud van het tank\n",
    "    x_zout_concentratie = x_zout_concentratie / i_tank_x\n",
    "    y_zout_concentratie = y_zout_concentratie / i_tank_y\n",
    "    \n",
    "    plt.figure(figsize=(16, 10), dpi=80)\n",
    "    \n",
    "    # plot van tank x\n",
    "    x_plot = plt.plot(total_time, x_zout_concentratie, color='r', label='tank x')\n",
    "    \n",
    "    # plot van tank y\n",
    "    y_plot = plt.plot(total_time, y_zout_concentratie, color='g', label='tank y')\n",
    "    \n",
    "    plt.xlabel('tijd in Min', fontsize=18)\n",
    "    plt.ylabel('zout in KG / L', fontsize=18)\n",
    "    plt.title(\"Heun Method\", fontsize=18)\n",
    "    plt.legend(prop={\"size\":16})\n",
    "\n",
    "# zorgt er voor dat het plot interactive gebruikt kan worden.\n",
    "sliders = interactive(heun, i_tank_x=(100, 1000), i_tank_y=(100, 1000), duur=(1, 250), h=(0.01, 20.0, 0.01))\n",
    "output = sliders.children[-1]\n",
    "output.layout.height = '450px'\n",
    "output.layout.width = '700px'\n",
    "sliders"
   ]
  },
  {
   "cell_type": "code",
   "execution_count": null,
   "metadata": {},
   "outputs": [],
   "source": []
  }
 ],
 "metadata": {
  "kernelspec": {
   "display_name": "Python 3",
   "language": "python",
   "name": "python3"
  },
  "language_info": {
   "codemirror_mode": {
    "name": "ipython",
    "version": 3
   },
   "file_extension": ".py",
   "mimetype": "text/x-python",
   "name": "python",
   "nbconvert_exporter": "python",
   "pygments_lexer": "ipython3",
   "version": "3.8.5"
  }
 },
 "nbformat": 4,
 "nbformat_minor": 4
}
